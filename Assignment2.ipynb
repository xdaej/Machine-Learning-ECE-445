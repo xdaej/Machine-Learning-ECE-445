{
 "cells": [
  {
   "cell_type": "markdown",
   "metadata": {},
   "source": [
    "# ECE 445 (ML for ENGG): Mini Jupyter Exercise #2\n",
    "\n",
    "*Eric Jiang\n",
    "ewj12 158002948*\n",
    "\n",
    "9/27/2018"
   ]
  },
  {
   "cell_type": "code",
   "execution_count": 1,
   "metadata": {},
   "outputs": [],
   "source": [
    "import matplotlib as plt\n",
    "import mpl_toolkits.mplot3d as plt3d\n",
    "import numpy as np\n",
    "%matplotlib inline"
   ]
  },
  {
   "cell_type": "markdown",
   "metadata": {},
   "source": [
    "**Synthetic Data**\n",
    "\n",
    "Problem 1"
   ]
  },
  {
   "cell_type": "markdown",
   "metadata": {},
   "source": [
    "use np.random.normal(mean,variance,(rows,cols))"
   ]
  },
  {
   "cell_type": "code",
   "execution_count": 2,
   "metadata": {},
   "outputs": [
    {
     "name": "stdout",
     "output_type": "stream",
     "text": [
      "[[-1.51424476  0.82876058]\n",
      " [-0.88876059 -0.3637402 ]\n",
      " [-1.12532278  0.44479172]]\n",
      "2\n"
     ]
    }
   ],
   "source": [
    "from numpy.linalg import matrix_rank\n",
    "A = np.random.normal(0,1,(3,2))\n",
    "print(A)\n",
    "print(matrix_rank(A))\n"
   ]
  },
  {
   "cell_type": "markdown",
   "metadata": {},
   "source": [
    "**Generation of Dataset #1**\n",
    "\n",
    "Problem 1"
   ]
  },
  {
   "cell_type": "code",
   "execution_count": 15,
   "metadata": {},
   "outputs": [
    {
     "name": "stdout",
     "output_type": "stream",
     "text": [
      "The dimensionality of array X is: (3, 499)\n",
      "\n",
      "The rank of X=A(3x2)V(2x500) is: 2\n"
     ]
    }
   ],
   "source": [
    "''''\n",
    "#This doesn't work for some reason...\n",
    "X = np.empty([3,500])\n",
    "V = np.empty([2,500])\n",
    "\n",
    "for i in range(0,499):\n",
    "    v = np.random.normal(0,1,(2))\n",
    "    np.hstack((V,v))\n",
    "    x = A@v\n",
    "    np.hstack((X,x))\n",
    "    \n",
    "    #Alternatively could use:\n",
    "    #np.c_[V,v]\n",
    "    #np.c_[X,A@v]\n",
    "    #use np.r_[mat1,mat2] for vstack (rows)\n",
    "    #this took me forever to figure out!\n",
    "'''\n",
    "\n",
    "n = 500\n",
    "V = np.zeros((2,n)) # Pre-allocate matrix\n",
    "X = np.zeros((3,n))\n",
    "for i in range(0,n):\n",
    "    v = np.random.normal(0,1,(2))\n",
    "    x = A@v\n",
    "    V[:,i] = v # array V(2x500) storing vi's\n",
    "    X[:,i] = x # array X(3x500) storing xi's\n",
    "\n",
    "print('The dimensionality of array X is:', np.shape(X))\n",
    "\n",
    "X1 = A@V\n",
    "print('\\nThe rank of X=A(3x2)V(2x500) is:', matrix_rank(X1))"
   ]
  },
  {
   "cell_type": "markdown",
   "metadata": {},
   "source": [
    "Since the x=Av data pts have dimensions of 3x1, with 500 cols of the 3 rowed x's then X's dimensions (3,500) confirms my expectations\n",
    "\n",
    "Rank of 2 may possibly be due to the fact that X's multipliers A & V both can only have a rank of 2 given max 2 rows in V and max 2 cols in A"
   ]
  },
  {
   "cell_type": "markdown",
   "metadata": {},
   "source": [
    "**Singular Value and Eigenvalue Decomposition of Dataset #1**\n",
    "\n",
    "Problem 1"
   ]
  },
  {
   "cell_type": "code",
   "execution_count": 16,
   "metadata": {},
   "outputs": [
    {
     "name": "stdout",
     "output_type": "stream",
     "text": [
      "\u001b[1m\n",
      "Left Singular Vectors of X:\n",
      "\u001b[0m [[-0.78442504  0.33423134 -0.52246221]\n",
      " [-0.28944381 -0.94229437 -0.16823675]\n",
      " [-0.5485432   0.01925433  0.83590049]] \n",
      "\n",
      "\u001b[1mEigenvectors of XXt:\n",
      "\u001b[0m [[-0.78442504 -0.52246221  0.33423134]\n",
      " [-0.28944381 -0.16823675 -0.94229437]\n",
      " [-0.5485432   0.83590049  0.01925433]] \n",
      "\n",
      "\u001b[1mEigenvalues of XXt:\u001b[0m [ 2.11476790e+03 -1.68935517e-13  2.42567776e+02]\n",
      "\u001b[1mSquare of Singular Values of X:\u001b[0m [2.11476790e+03 2.42567776e+02 6.54033659e-30]\n",
      "\u001b[1m\n",
      "Frobenius Norm or Energy of X:\u001b[0m 2357.335671192682\n",
      "\u001b[1mSum of squares of Singular Vals of X:\u001b[0m 2357.3356711926817\n",
      "\u001b[1m\n",
      "Singular Values of X:\u001b[0m [4.59866056e+01 1.55745875e+01 2.55740818e-15]\n",
      "\u001b[1mLeft Singular Vectors of X\n",
      "\u001b[0m [[-0.78442504  0.33423134 -0.52246221]\n",
      " [-0.28944381 -0.94229437 -0.16823675]\n",
      " [-0.5485432   0.01925433  0.83590049]]\n",
      "\u001b[1mMatrix A\n",
      "\u001b[0m [[-1.51424476  0.82876058]\n",
      " [-0.88876059 -0.3637402 ]\n",
      " [-1.12532278  0.44479172]]\n"
     ]
    }
   ],
   "source": [
    "from numpy import linalg as la\n",
    "\n",
    "B= '\\033[1m'\n",
    "E= '\\033[0m'\n",
    "\n",
    "LS, DS, RS = la.svd(X, full_matrices=True) \n",
    "#print(X1.shape,LS.shape,DS.shape,RS.shape)\n",
    "#reconstructX = LS @ np.diag(DS) @ RS\n",
    "#la.norm(reconstructX-X)\n",
    "\n",
    "#lS = Left Singular Vectors, DS = Singular Values, RS = Right Singular Vectors\n",
    "XXt = X@X.T\n",
    "#XXt = np.nan_to_num(XXt)\n",
    "Eigval, Eigvec = la.eig(XXt)\n",
    "\n",
    "# X's LS = XXt's Eigvec\n",
    "print(B+'\\nLeft Singular Vectors of X:\\n'+E, LS,'\\n')\n",
    "print(B+'Eigenvectors of XXt:\\n'+E,Eigvec,'\\n')\n",
    "\n",
    "# XXt's Eigvals = X's DS^2\n",
    "print(B+'Eigenvalues of XXt:'+E,Eigval)\n",
    "print(B+'Square of Singular Values of X:'+E,np.square(DS))\n",
    "\n",
    "# X's Norm^2 = Sum of X's DS^2\n",
    "print(B+'\\nFrobenius Norm or Energy of X:'+E,la.norm(X)**2)\n",
    "print(B+'Sum of squares of Singular Vals of X:'+E,np.sum(DS**2))\n",
    "\n",
    "print(B+'\\nSingular Values of X:'+E,DS)\n",
    "print(B+'Left Singular Vectors of X\\n'+E,LS)\n",
    "print(B+'Matrix A\\n'+E,A)"
   ]
  },
  {
   "cell_type": "markdown",
   "metadata": {},
   "source": [
    "Problem 2\n",
    "\n",
    "- None of the singular values are exactly zero because when singular value deconstruction is used there is noise in the separation. The noise causes the singular value to oscillate close to zero but not exactly zero.\n",
    "\n",
    "- The relationship between the left singular vectors of X and the two largest singular values and the columns of A"
   ]
  },
  {
   "cell_type": "markdown",
   "metadata": {},
   "source": [
    "**PCA of Dataset #1**\n",
    "\n",
    "Problem 1\n"
   ]
  },
  {
   "cell_type": "markdown",
   "metadata": {},
   "source": [
    "There only needs to be 2 principal components to capture all the data variation.\n",
    "\n",
    "Since X was created by two 2-D arrays with max rank of 2 (both x,y variation), it can be assumed that the variation can only be along the 2-D space with the third dimension z being left at 0 variation. Thus there only needs to be two principal components along the x-y plane to capture all the data variation."
   ]
  },
  {
   "cell_type": "markdown",
   "metadata": {},
   "source": [
    "Problem 2"
   ]
  },
  {
   "cell_type": "code",
   "execution_count": 5,
   "metadata": {},
   "outputs": [
    {
     "name": "stdout",
     "output_type": "stream",
     "text": [
      "\u001b[1mEstimated Value xk for k = 1,2,3:\u001b[0m -9.43689570931383e-16\n",
      "\u001b[1m\n",
      "Mean of sum of X vectors:\u001b[0m -1.1842378929335003e-18\n"
     ]
    }
   ],
   "source": [
    "from numpy import array, dot, mean, std, empty, argsort\n",
    "from numpy.linalg import eigh, solve\n",
    "from numpy.random import randn\n",
    "from matplotlib.pyplot import subplots, show\n",
    "\n",
    "def cov(data):\n",
    "    return dot(data.T, data) / data.shape[0]\n",
    "\n",
    "#PCA with eigenvalues, also centers the mean and scales the data\n",
    "def nppca(data, pc_count = None):\n",
    "\n",
    "    data -= mean(data, 0)\n",
    "    data /= std(data, 0)\n",
    "    C = cov(data)\n",
    "    E, V = eigh(C)\n",
    "    key = argsort(E)[::-1][:pc_count]\n",
    "    E, V = E[key], V[:, key]\n",
    "    U = dot(data, V)\n",
    "    return U, E, V\n",
    "\n",
    "xtrans = nppca(X, 3)[0]\n",
    "\n",
    "transmean = xtrans.mean()\n",
    "print(B+'Estimated Value xk for k = 1,2,3:'+E,transmean)\n",
    "\n",
    "Xmean = X.mean()\n",
    "Xmeanvec = X.mean(0)\n",
    "print(B+'\\nMean of sum of X vectors:'+E,Xmean)\n",
    "#print(B+'\\nX vector mean entries all are ~ 0:\\n'+E,Xmeanvec)"
   ]
  },
  {
   "cell_type": "markdown",
   "metadata": {},
   "source": [
    "Problem 3"
   ]
  },
  {
   "cell_type": "code",
   "execution_count": 6,
   "metadata": {},
   "outputs": [
    {
     "name": "stdout",
     "output_type": "stream",
     "text": [
      "\u001b[1mTop two principal components U[PCx, PCy]:\n",
      "\u001b[0m [[ 23.54168736   6.60748598]\n",
      " [-27.46636091   4.1291772 ]\n",
      " [  3.92467355 -10.73666318]]\n"
     ]
    }
   ],
   "source": [
    "#Using the pca above for matrix X\n",
    "Xtrans = nppca(X, 3)[0]\n",
    "\n",
    "#Retrieving x, y PCs for U[PCx,PCy]\n",
    "ux = np.reshape(Xtrans[:,0],(3,1)) #PCx\n",
    "uy = np.reshape(Xtrans[:,1],(3,1)) #PCy\n",
    "uz = np.reshape(Xtrans[:,2],(3,1)) #PCz\n",
    "U = np.hstack((ux,uy))\n",
    "\n",
    "print(B+\"Top two principal components U[PCx, PCy]:\\n\"+E,U)\n",
    "#print(uz) "
   ]
  },
  {
   "cell_type": "markdown",
   "metadata": {},
   "source": [
    "Problem 4"
   ]
  },
  {
   "cell_type": "code",
   "execution_count": null,
   "metadata": {},
   "outputs": [],
   "source": []
  }
 ],
 "metadata": {
  "kernelspec": {
   "display_name": "Python 3",
   "language": "python",
   "name": "python3"
  },
  "language_info": {
   "codemirror_mode": {
    "name": "ipython",
    "version": 3
   },
   "file_extension": ".py",
   "mimetype": "text/x-python",
   "name": "python",
   "nbconvert_exporter": "python",
   "pygments_lexer": "ipython3",
   "version": "3.6.5"
  }
 },
 "nbformat": 4,
 "nbformat_minor": 2
}
